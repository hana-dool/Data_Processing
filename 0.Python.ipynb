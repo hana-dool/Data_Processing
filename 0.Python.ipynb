{
 "cells": [
  {
   "cell_type": "markdown",
   "metadata": {},
   "source": [
    "# Intro"
   ]
  },
  {
   "cell_type": "markdown",
   "metadata": {},
   "source": [
    "- 파이썬의 dict, list, tuple 등 미리 이런 형태들에 대해서 알고있는것이 매우 중요하다.\n",
    "- 이런 기초를 너무 빡세게 할 필요는 없지만 , parameter 의 경우 dic 형태로 정의되어있다던가, 또는 pandas 의 columns 들을 list 로 받고 이를 dict 들로 변환하는 등 많은 기본적 변환이 필요하다.\n",
    "- 이런 상황을 위해서 기초에 대해 잘 알아두는것이 필요하다.\n",
    "- 통계분석을 하면서 내가 유용하게 사용하던 내장함수를 기준으로 알아보자."
   ]
  },
  {
   "cell_type": "code",
   "execution_count": 81,
   "metadata": {},
   "outputs": [],
   "source": [
    "import numpy as np\n",
    "import pandas as pd"
   ]
  },
  {
   "cell_type": "markdown",
   "metadata": {},
   "source": [
    "# 파이썬?"
   ]
  },
  {
   "cell_type": "markdown",
   "metadata": {},
   "source": [
    "**프로그래밍 언어란?**"
   ]
  },
  {
   "cell_type": "markdown",
   "metadata": {},
   "source": [
    "- CPU\n",
    "    - CPU 는 Central Processing Unit 의 약자로 중앙 처리 장치라고 불린다.\n",
    "    - 머리에 해당하고, 컴퓨터 프로그램의 명령을 해석하고 실행한다.\n",
    "- 메모리(RAM)\n",
    "    - 메모리는 사람의 손에 해당한다.\n",
    "    - CPU 가 데이터나 프로그램을 읽으려면 어딘가에 저장이 되어있어야 한다. 그 영역이 메모리 영역이다.\n",
    "    - 메모리 영역의 장점은 매우 빠르지만, 전원이 들어오지 않을때에는 기억하지 못하는 휘발성이 있다.\n",
    "- 하드디스크\n",
    "    - 사람의 가방에 해당한다.\n",
    "    - 전원이 없어도 오랫동안 보관이 가능하고 비휘발성을 가지고 있다.\n",
    "    - CPU 는 메모리를 거치지 않고 하드디스크의 데이터를 읽을 수 없다.\n",
    "        - 그래서 하드디스크와 메모리간 데이터 이동은 매우 빈번하다.\n",
    "        - CPI 연산시 데이터가 하드에있는지 메모리(메모리에 있으면 빠르다.)에 있는지에 따라 속도가 매우 다름\n",
    "- 프로그래밍 언어\n",
    "    - 컴퓨터는 0,1 만을 이해할 수 있는데 어떻게 명령을 내려야 할까?\n",
    "    - 프로그래밍 언어는 CPU 에 어떤 작업을 하라고 컴퓨터가 이해할 수 있게 명령을 내리는 언어이다.\n",
    "- 변수\n",
    "    - 변수는 데이터를 메모리에 저장할 때 사용하는 물리적인 메모리 주소 대신에 사용하는, 기억하기 쉬운 단어로 구성된 꼬리표\n",
    "    - 물리적인 메모리 주소는 항상 바뀔 수 있다.\n",
    "    - 복잡한 식이나 값을 계산할 때에 중간과정의 결과값을 어딘가에 기록해 두고 싶을것이다\n",
    "    - 그럴때에 사용하는것이 변수    \n"
   ]
  },
  {
   "cell_type": "markdown",
   "metadata": {},
   "source": [
    "**파이썬**"
   ]
  },
  {
   "cell_type": "markdown",
   "metadata": {},
   "source": [
    "- 동적 바인딩에 강한 타입 언어\n",
    "    - 데이터의 타입을 정의하지 않고도, 자동적으로 타입을 추론/정의해줌\n",
    "- mutable/imutable\n",
    "    - immutable \n",
    "        - 변경할 수 없는\n",
    "        - 숫자, 문자열, 튜플\n",
    "        -ex) str = 'abc' 를 지정했다고 하자. str = str+'b' 로 update 하면 str의 주소(물리적) 이 바뀌게 된다. 즉 '주소를 그래도 두고' 변경이 불가능\n",
    "    - mutable\n",
    "        - 변경할 수 있는\n",
    "        - list, dict, set\n",
    "        - EX) lis.append('a') 를 해서 lis 를 update 했다고 하자. 그러면 list 의 주소는 그대로인 상태로 그 리스트가 바뀌게 된다. 즉 '주소가 그대로' 인데 그 값이 변경될 수 있다.\n",
    "- 왜 mutable/immutable 이 있을까?\n",
    "    - 이는 바로 성능적인 이점떄문\n",
    "    - mutable 인 경우 많은 메소드 적용 가능(append)\n",
    "    - immutable 은 많은 메소드를 적용하지 못하나, 메모리상의 이점이 있음\n",
    "        - mutable 에 계속 for문 돌리면서 변경하면 메모리 부족하게 된다.\n",
    "        - 또는 mutable 의 객체를 계속 형성하고 삭제하지 않으면 메모리를 잡아먹는다.\n",
    "        - 그래서 dict 의 연산시 메모리를 절약하기 위해서 tuple 로 바꾼다음에 연산을 한 다음 dict 로 다시 바꾸는 경우도 있다.\n",
    "- iterable\n",
    "    - 반복 가능한 개체\n",
    "    - list, dict, set, str, tuple, range 의 객체들이 대표적이다. \n",
    "\n",
    "\n",
    "     "
   ]
  },
  {
   "cell_type": "code",
   "execution_count": 73,
   "metadata": {},
   "outputs": [
    {
     "data": {
      "text/plain": [
       "3115051138480"
      ]
     },
     "execution_count": 73,
     "metadata": {},
     "output_type": "execute_result"
    }
   ],
   "source": [
    "string = 'abc'\n",
    "id(string)"
   ]
  },
  {
   "cell_type": "code",
   "execution_count": 74,
   "metadata": {},
   "outputs": [
    {
     "data": {
      "text/plain": [
       "'abcd'"
      ]
     },
     "execution_count": 74,
     "metadata": {},
     "output_type": "execute_result"
    }
   ],
   "source": [
    "# 새로운 객체의 값\n",
    "string + 'd'"
   ]
  },
  {
   "cell_type": "code",
   "execution_count": 76,
   "metadata": {},
   "outputs": [
    {
     "data": {
      "text/plain": [
       "3115051138480"
      ]
     },
     "execution_count": 76,
     "metadata": {},
     "output_type": "execute_result"
    }
   ],
   "source": [
    "# 변수를 변경하지 않아서 그냥 그대로임\n",
    "id(string)"
   ]
  },
  {
   "cell_type": "code",
   "execution_count": 77,
   "metadata": {},
   "outputs": [],
   "source": [
    "string = string + 'd'"
   ]
  },
  {
   "cell_type": "code",
   "execution_count": 78,
   "metadata": {},
   "outputs": [
    {
     "data": {
      "text/plain": [
       "3115169137328"
      ]
     },
     "execution_count": 78,
     "metadata": {},
     "output_type": "execute_result"
    }
   ],
   "source": [
    "# 이제 값이 바뀜\n",
    "id(string)"
   ]
  },
  {
   "cell_type": "markdown",
   "metadata": {},
   "source": [
    "# 상식"
   ]
  },
  {
   "cell_type": "markdown",
   "metadata": {},
   "source": [
    "- 빈 Sequence(String / Tuple / List)는 False 값을 가진다."
   ]
  },
  {
   "cell_type": "markdown",
   "metadata": {},
   "source": [
    "# 자료형"
   ]
  },
  {
   "cell_type": "markdown",
   "metadata": {
    "id": "ZOxXllzLJ9L0"
   },
   "source": [
    "## List"
   ]
  },
  {
   "cell_type": "markdown",
   "metadata": {},
   "source": [
    "- List 는 의외로 많이 쓰이는 자료형이다.\n",
    "- pred = [] 로 정의 후 뒤의 for 문에서 c.v. 로 계산한 predict 값을 pred 에 concat 해서 채워 넣는등 많이 쓰임"
   ]
  },
  {
   "cell_type": "markdown",
   "metadata": {
    "id": "dsCXEYbTKZDz"
   },
   "source": [
    "**기본성질**\n",
    "- **indexing**\n",
    "    - x[a] : a 번째 element\n",
    "    - x[a:b] : a~b-1 까지의 리스트값 출력\n",
    "    - x[a][b] : a 번째 element 의 b번째 element\n",
    "- **연산**\n",
    "    - \\+ : 리스트 concat\n",
    "    - \\* : 리스트 반복\n",
    "- **.len ( )**: list의 길이 \n",
    "- **.append()**: list 맨 뒤에 element 추가\n",
    "    - 이 떄에 x = x.append(i) 로 하면 안된다. \n",
    "    - x.append(i) 를 하면 x 에 inplace 하게 추가가 된다.\n",
    "    - inplace\n",
    "- **.extend()**: list 맨 뒤에 iterable 객체 elemenet 추가\n",
    "    - 이 때 x.append([1,2]) 를 하게되면 x 의 맨 뒤에 element 가 추가된다.\n",
    "    - inplace\n",
    "- **.insert (위치,데이터)**: 리스트의 위치에 데이터 추가\n",
    "    - 추가되는 데이터의 위치는 \n",
    "    - inplace\n",
    "- **.sort ( )** : list 를 sorting 해준다.\n",
    "    - inplace\n",
    "- **.reverse ( )**: list 를 역방향으로 sorting\n",
    "    - inplace \n",
    "- **.index ( x )**: x의 위치를 반환.\n",
    "    - 처음으로 만나는 x 의 위치를 반환한다.\n",
    "- **.insert ( a, b )**: a번째 위치에 b를 삽입\n",
    "    - inplace\n",
    "- **.remove ( x )** : 첫번째로 나오는 x를 삭제\n",
    "    - inplace\n",
    "- **.pop ( )**: list의 맨 마지막 element 출력 이후 삭제\n",
    "    - 이때 맨 마지막 element가 나온 이후 삭제가 inplace 하게 이루어진다.\n",
    "    - pop( a ): a 번쨰 element 를 pop 한 이후 삭제\n",
    "    - inplace \n",
    "- **.count ( x )**: list 안에 x가 몇 개 있는지 조사해서 그 개수를 반환"
   ]
  },
  {
   "cell_type": "markdown",
   "metadata": {},
   "source": [
    "**주의점**\n",
    "- 리스트는 연산을 하지 못한다. ([1,2,3] + 3 은 에러가남 )\n",
    "- 리스트끼리 연산이 된다 해도, 그건 concat 이다. ([1,2,3] + [1,2] = [1,2,3,1,2])\n",
    "- 대부분의 연산이 inplace 하게 일어나기 때문에 lis = lis.sort() 같은 연산을 하면 안된다."
   ]
  },
  {
   "cell_type": "code",
   "execution_count": 9,
   "metadata": {},
   "outputs": [
    {
     "data": {
      "text/plain": [
       "2"
      ]
     },
     "execution_count": 9,
     "metadata": {},
     "output_type": "execute_result"
    }
   ],
   "source": [
    "lis = [1,2,3,4,3,2,3]\n",
    "lis.index(3)"
   ]
  },
  {
   "cell_type": "code",
   "execution_count": 5,
   "metadata": {},
   "outputs": [
    {
     "data": {
      "text/plain": [
       "[1, 2, 3, 6]"
      ]
     },
     "execution_count": 5,
     "metadata": {},
     "output_type": "execute_result"
    }
   ],
   "source": [
    "lis.remove(3) ; lis"
   ]
  },
  {
   "cell_type": "code",
   "execution_count": 4,
   "metadata": {},
   "outputs": [
    {
     "data": {
      "text/plain": [
       "[1, 2, 3, 3, 6]"
      ]
     },
     "execution_count": 4,
     "metadata": {},
     "output_type": "execute_result"
    }
   ],
   "source": [
    "lis.insert(3,3) ; lis"
   ]
  },
  {
   "cell_type": "code",
   "execution_count": null,
   "metadata": {},
   "outputs": [],
   "source": []
  },
  {
   "cell_type": "code",
   "execution_count": 40,
   "metadata": {},
   "outputs": [
    {
     "data": {
      "text/plain": [
       "[1, 3, 5, 4]"
      ]
     },
     "execution_count": 40,
     "metadata": {},
     "output_type": "execute_result"
    }
   ],
   "source": [
    "lis= [1,3,5]\n",
    "lis.append(4)\n",
    "lis"
   ]
  },
  {
   "cell_type": "code",
   "execution_count": 41,
   "metadata": {},
   "outputs": [
    {
     "data": {
      "text/plain": [
       "[1, '추가', 3, 5]"
      ]
     },
     "execution_count": 41,
     "metadata": {},
     "output_type": "execute_result"
    }
   ],
   "source": [
    "lis = [1,3,5]\n",
    "lis.insert(1,'추가') # 들어가게 되는 데이터의 위치에 추가하게 된다.\n",
    "lis"
   ]
  },
  {
   "cell_type": "code",
   "execution_count": 42,
   "metadata": {},
   "outputs": [
    {
     "data": {
      "text/plain": [
       "[1, 3]"
      ]
     },
     "execution_count": 42,
     "metadata": {},
     "output_type": "execute_result"
    }
   ],
   "source": [
    "lis = [1,3,5]\n",
    "lis.pop()\n",
    "lis"
   ]
  },
  {
   "cell_type": "code",
   "execution_count": 43,
   "metadata": {},
   "outputs": [
    {
     "data": {
      "text/plain": [
       "[5, 1, 3]"
      ]
     },
     "execution_count": 43,
     "metadata": {},
     "output_type": "execute_result"
    }
   ],
   "source": [
    "lis = [5,1,3]\n",
    "lis.sort\n",
    "lis"
   ]
  },
  {
   "cell_type": "markdown",
   "metadata": {
    "id": "h2BX7tuwKF1V"
   },
   "source": [
    "## Dictionary"
   ]
  },
  {
   "cell_type": "markdown",
   "metadata": {},
   "source": [
    "- 사람은 누구든지 \"이름\" = \"홍길동\", \"생일\" = \"몇 월 며칠\" 등으로 구별할 수 있다.\n",
    "- 이런 대응관계를  요즘 사용하는 대부분의 언어도 이러한 대응 관계를 나타내는 자료형을 갖고 있는데, 이를 연관 배열(Associative array) 또는 해시(Hash)라고 한다\n",
    "- 파이썬에서는 위의 대응관계를 나타내는것을 dictionary 라고 한다. Key와 Value를 한 쌍으로 갖는 자료형이다. \n",
    "- 딕셔너리는 리스트나 튜플처럼 순차적으로(sequential) 해당 요솟값을 구하지 않고 Key를 통해 Value를 얻는다.\n",
    "- Key 는 변하지 않는(immutable) 자료형이 key 로 가능하다.\n",
    "- Iterable이며 순서가 보장되는 자료형이다. 따라서 인덱싱과 슬라이싱, 합과 곱 연산이 가능합니다."
   ]
  },
  {
   "cell_type": "markdown",
   "metadata": {
    "id": "3ski8RraKaQ0"
   },
   "source": [
    "**structure**\n",
    "- key는 immutable, values 는 mutable 한 element 가 들어와야한다.\n",
    "- construct 하는 방법은 아래와 같다.\n",
    "    - 딕셔너리 = dict(키1=값1, 키2=값2)\n",
    "    - 딕셔너리 = dict(zip([키1, 키2], [값1, 값2]))\n",
    "    - 딕셔너리 = dict([(키1, 값1), (키2, 값2)])\n",
    "    - 딕셔너리 = dict({키1: 값1, 키2: 값2})\n"
   ]
  },
  {
   "cell_type": "markdown",
   "metadata": {
    "id": "3ski8RraKaQ0"
   },
   "source": [
    "**기본 성질**\n",
    "- **indexing**\n",
    "    - x['a'] : key a 에 해당하는 value 를 출력\n",
    "- **len()** : 사전의 길이 출력\n",
    "    - 이때, 길이는 key 의 수가 된다.\n",
    "- **.keys ( )**: key 를 가지는 배열 만들기\n",
    "    - list 도 얻고싶다면 list(...keys()) 로 한번 더 덛씌워야 한다.\n",
    "- **.values ( )**: value를 list로 만들기\n",
    "    - 이 역시 위와 같음\n",
    "- **.items ( )**: key, value의 tuple 반한\n",
    "    - [(key,value)...] 꼴로 반환하게 된다.    \n",
    "- **.get ( x , '디폴트')**:  x에 해당하는 key 값이 없을 때 디폴트 값을 가져감\n",
    "- **in**: 해당 key가 있는지 조사"
   ]
  },
  {
   "cell_type": "markdown",
   "metadata": {},
   "source": [
    "**dict의 변수지정**\n",
    "- dic = { } 이후 dic[i] = j 로 지정하면 바로 {i:j} 가 형성된다.\n",
    "- dic = { } 이후 dic[i] += j 로 연산을 처리하면 error 가 발생한다."
   ]
  },
  {
   "cell_type": "markdown",
   "metadata": {},
   "source": [
    "**dict의 sorting**\n",
    "\n",
    "- **key sorting**\n",
    "    - sorted(dic.items()) # dictionary 를 [(key,value)] 꼴로 나타낸 후 오름차순 정렬한다. 즉 이 값에 다시 dict 를 붙여주면 key 를 기준으로 sorting ,된 dictionary 가 나옴\n",
    "    - sorted(dic.items(),reverse=True ) 를 통해서 내림차순도 가능하다.    \n",
    "- **value sorting**\n",
    "    - sorted(dic.items(), key = lambda dic : dic[1]) # key 를 지정해주면 해당 함수의 반환값을 비교하여 순서대로 정렬한다.\n"
   ]
  },
  {
   "cell_type": "markdown",
   "metadata": {},
   "source": [
    "**❗주의사항**\n",
    "- .values() 나 . keys() 로 나온값은 list 가 아니라 그 자체 values, keys 객체이기 떄문에 별로 쓸모가 없다. 바로 list 로 바꿔주어여 한다. 즉 list(dict.values()) 로 사용하는것이 좋다는 이야기"
   ]
  },
  {
   "cell_type": "code",
   "execution_count": 69,
   "metadata": {},
   "outputs": [
    {
     "data": {
      "text/plain": [
       "200"
      ]
     },
     "execution_count": 69,
     "metadata": {},
     "output_type": "execute_result"
    }
   ],
   "source": [
    "z = 100\n",
    "def add(x):\n",
    "    return(x+z)\n",
    "add(100)"
   ]
  },
  {
   "cell_type": "code",
   "execution_count": 74,
   "metadata": {},
   "outputs": [
    {
     "data": {
      "text/plain": [
       "1304"
      ]
     },
     "execution_count": 74,
     "metadata": {},
     "output_type": "execute_result"
    }
   ],
   "source": [
    "13049 // 10"
   ]
  },
  {
   "cell_type": "code",
   "execution_count": 66,
   "metadata": {},
   "outputs": [
    {
     "data": {
      "text/plain": [
       "[0, 1, 2]"
      ]
     },
     "execution_count": 66,
     "metadata": {},
     "output_type": "execute_result"
    }
   ],
   "source": [
    "dic = {1:3,2:5,0:2}\n",
    "sorted(dic)"
   ]
  },
  {
   "cell_type": "code",
   "execution_count": 58,
   "metadata": {},
   "outputs": [
    {
     "data": {
      "text/plain": [
       "dict_keys(['a', 'b'])"
      ]
     },
     "execution_count": 58,
     "metadata": {},
     "output_type": "execute_result"
    }
   ],
   "source": [
    "dic.keys()"
   ]
  },
  {
   "cell_type": "code",
   "execution_count": 68,
   "metadata": {},
   "outputs": [
    {
     "ename": "TypeError",
     "evalue": "'dict_values' object is not subscriptable",
     "output_type": "error",
     "traceback": [
      "\u001b[1;31m---------------------------------------------------------------------------\u001b[0m",
      "\u001b[1;31mTypeError\u001b[0m                                 Traceback (most recent call last)",
      "\u001b[1;32m<ipython-input-68-ffbd7a79b024>\u001b[0m in \u001b[0;36m<module>\u001b[1;34m\u001b[0m\n\u001b[1;32m----> 1\u001b[1;33m \u001b[0mdic\u001b[0m\u001b[1;33m.\u001b[0m\u001b[0mvalues\u001b[0m\u001b[1;33m(\u001b[0m\u001b[1;33m)\u001b[0m\u001b[1;33m[\u001b[0m\u001b[1;36m1\u001b[0m\u001b[1;33m]\u001b[0m\u001b[1;33m\u001b[0m\u001b[1;33m\u001b[0m\u001b[0m\n\u001b[0m",
      "\u001b[1;31mTypeError\u001b[0m: 'dict_values' object is not subscriptable"
     ]
    }
   ],
   "source": [
    "dic.values()"
   ]
  },
  {
   "cell_type": "code",
   "execution_count": 61,
   "metadata": {},
   "outputs": [
    {
     "data": {
      "text/plain": [
       "dict_items([('a', [1, 2, 3, 4]), ('b', [5, 6, 7, 8])])"
      ]
     },
     "execution_count": 61,
     "metadata": {},
     "output_type": "execute_result"
    }
   ],
   "source": [
    "dic.items()"
   ]
  },
  {
   "cell_type": "markdown",
   "metadata": {
    "id": "N3NgYviRKF6Q"
   },
   "source": [
    "##  Set"
   ]
  },
  {
   "cell_type": "markdown",
   "metadata": {},
   "source": [
    "- 순서가 없고, 집합안에서는 unique한 값을 가진다.\n",
    "- mutable 객체"
   ]
  },
  {
   "cell_type": "markdown",
   "metadata": {},
   "source": [
    "**Method**\n",
    "- a in set : a 가 set 안에 있는지 검사\n",
    "- A | B : A,B set 에 대한 합집합\n",
    "- A & B : A,B set 에 대힌 교집합\n",
    "- A - B : A,B set 에 대한 차집합\n",
    "- A ^ B : A,B set 에 대한 sym_diff\n",
    "- .add() : set 에 원소 추가(하나씩)\n",
    "    - inplace\n",
    "- .update() : 한번에 여러 원소들을 update 할 때에 사용\n",
    "    - {1,2}.update([1,4,5]) -> {1,2,4,5}\n",
    "    - inplace \n",
    "- .remove() : 원소 제거\n",
    "    - inplace\n",
    "- .issubset : 부분집합 여부 확인\n",
    "    - {1,2}.issubset({1,2,4,5}) -> True\n",
    "- .isdisjoint : 두 집합이 겹치지 않으면 True\n",
    "    - {1,3}.isdisjoint({2,4}) -> True\n",
    "  "
   ]
  },
  {
   "cell_type": "markdown",
   "metadata": {},
   "source": [
    "## Tuple"
   ]
  },
  {
   "cell_type": "markdown",
   "metadata": {},
   "source": [
    "- **기본구조** \n",
    "    - 튜플 내장함수는 리스트와 동일합니다.\n",
    "    - 하지만 메소드는 리스트 대비 매우 적다. (이는 immutable 이기 때문)\n",
    "- **len()** : 튜플 길이\n",
    "- **max/min()** : 최대/최소\n",
    "- **.count()**  : 튜플의 element 수"
   ]
  },
  {
   "cell_type": "markdown",
   "metadata": {},
   "source": [
    "## Strng"
   ]
  },
  {
   "cell_type": "markdown",
   "metadata": {},
   "source": [
    "- **len()** : 문자열 길이를 출력\n",
    "- **.count('a')** : 문자열 안에서 a 가 몇개 들어있는지 개수를 센다.\n",
    "- **.startswith('a')** : 문자열이 a 로 시작하면 T 반환\n",
    "- **.endswith('a')** : 문자열이 a 로 끝나면 T 반환 \n",
    "- **.find('a')** : 문자열에 a 가 있는지를 앞에서부터 찾아 index 반환\n",
    "    - 없으면 -1 반환\n",
    "- **.index('a')** : find 와 기능이 동일하다. 하지만 입력한 문자열이 없으면 error 발생\n",
    "- **.lower()** \n",
    "- **.isalnum()** : 문자열이 알파벳과 숫자로만 이루어졌으면 True\n",
    "- **.isalpha()** : 문자열이 알파벳만 이루어졌으면 True\n",
    "- **.isdigit()** : 문자열이 숫자만 포함하고있으면 True\n",
    "- **.isspace()** : 문자열이 공백으로만 되어있으면 T\n",
    "- **.lstrip()** : 문자열 왼쪽 공백 제거\n",
    "- **.rstrip()** : 문자열 오른쪽 공백 제거\n",
    "- **.strip()** : 문자열 양쪽의 공백 제거\n",
    "- **.split(',')** : 문자열을 구분자 기준에 따라 나눠 리스트 생성\n",
    "    - 'ha,ho'.split(',') -> ['ha','ho']\n",
    "- **.splitlines()** : 여러개 줄로 이루어진 문자열을 줄별로 구분해 리스트 생성\n",
    "    - 'ha\\nho'.splitlines() ->['ha','ho']\n",
    "- **.replace(old,new,max)** : old 문자열을 new 문자열로 교체\n",
    "    - max 는 바꾸는 최대 갯수가 된다.\n",
    "    - 'love line'.replace('l','g') -> 'gove gine'\n",
    "- **.join('a')** : iterable 한 객체의 문자를 붙이기(사이사이에 a 넣음)\n",
    "    - ['I','Love','You'].join('-') -> 'I-Love-You'\n",
    "- **.zfill(width)** : 문자열을 width 만큼 길이로 만들되, 추가로 필요한 자릿수만큼 앞에 0 채움 \n",
    "    - 'abc'.zfill(5) -> '00abc'\n",
    "\n"
   ]
  },
  {
   "cell_type": "markdown",
   "metadata": {},
   "source": [
    "# Built in function"
   ]
  },
  {
   "cell_type": "markdown",
   "metadata": {},
   "source": [
    "## sorted"
   ]
  },
  {
   "cell_type": "markdown",
   "metadata": {},
   "source": [
    "- sorted 를 통해서 iterable 객체를 정렬할 수 있다.\n",
    "- .sort() 는 list 만 가능하지만 위 sorted 는 iterable 객체에 대해서 모두 성립한다.\n",
    "- 이 떄에 sorted({},reverse=True)) 를 통해서 내림차순 정렬도 가능하다."
   ]
  },
  {
   "cell_type": "code",
   "execution_count": 56,
   "metadata": {},
   "outputs": [
    {
     "data": {
      "text/plain": [
       "[1, 2, 3, 4, 5]"
      ]
     },
     "execution_count": 56,
     "metadata": {},
     "output_type": "execute_result"
    }
   ],
   "source": [
    "sorted({3: 'D', 2: 'B', 5: 'B', 4: 'E', 1: 'A'})"
   ]
  },
  {
   "cell_type": "code",
   "execution_count": 62,
   "metadata": {},
   "outputs": [],
   "source": [
    "a = [(1, 2), (0, 1), (5, 1), (5, 2), (3, 0)]\n",
    "# 인자없이 그냥 sorted()만 쓰면, 리스트 아이템의 각 요소 순서대로 정렬을 한다.\n",
    "b = sorted(a)\n",
    "# b = [(0, 1), (1, 2), (3, 0), (5, 1), (5, 2)]\n",
    "# key 인자에 함수를 넘겨주면 해당 함수의 반환값을 비교하여 순서대로 정렬한다.\n",
    "c = sorted(a, key = lambda x : x[0])\n",
    "# c = [(0, 1), (1, 2), (3, 0), (5, 1), (5, 2)]\n",
    "d = sorted(a, key = lambda x : x[1])\n",
    "# d = [(3, 0), (0, 1), (5, 1), (1, 2), (5, 2)]"
   ]
  },
  {
   "cell_type": "markdown",
   "metadata": {},
   "source": [
    "## sum"
   ]
  },
  {
   "cell_type": "markdown",
   "metadata": {},
   "source": [
    "- List 나 dict 가 자체적으로 연산은 불가능하지만 sum 의 메소드는 작동한다\n",
    "- 즉 평균이나 합은 쉽게 구할 수 있다."
   ]
  },
  {
   "cell_type": "code",
   "execution_count": 14,
   "metadata": {},
   "outputs": [
    {
     "data": {
      "text/plain": [
       "6"
      ]
     },
     "execution_count": 14,
     "metadata": {},
     "output_type": "execute_result"
    }
   ],
   "source": [
    "sum([1,2,3])\n",
    "sum({1,2,3})"
   ]
  },
  {
   "cell_type": "markdown",
   "metadata": {},
   "source": [
    "## dir"
   ]
  },
  {
   "cell_type": "markdown",
   "metadata": {},
   "source": [
    "- dir은 객체가 자체적으로 가지고 있는 변수나 함수를 보여 준다.\n",
    "- 잘 알지 못하는 객체를 만났을 때에, 그 객체가 어떤 method 를 가지고 있는지 등을 알게 된다."
   ]
  },
  {
   "cell_type": "code",
   "execution_count": 8,
   "metadata": {},
   "outputs": [
    {
     "name": "stdout",
     "output_type": "stream",
     "text": [
      "['__add__', '__class__', '__contains__', '__delattr__', '__delitem__', '__dir__', '__doc__', '__eq__', '__format__', '__ge__', '__getattribute__', '__getitem__', '__gt__', '__hash__', '__iadd__', '__imul__', '__init__', '__init_subclass__', '__iter__', '__le__', '__len__', '__lt__', '__mul__', '__ne__', '__new__', '__reduce__', '__reduce_ex__', '__repr__', '__reversed__', '__rmul__', '__setattr__', '__setitem__', '__sizeof__', '__str__', '__subclasshook__', 'append', 'clear', 'copy', 'count', 'extend', 'index', 'insert', 'pop', 'remove', 'reverse', 'sort']\n"
     ]
    }
   ],
   "source": [
    "print(dir([1, 2, 3]))"
   ]
  },
  {
   "cell_type": "markdown",
   "metadata": {},
   "source": [
    "## type"
   ]
  },
  {
   "cell_type": "markdown",
   "metadata": {},
   "source": [
    "- type 은 객체에 대한 자료형이 무엇인지 알려 주는 함수이다.\n",
    "- 어떤 형태인지 알기 위해서 쓸 수 있다.\n",
    "    - pandas 에 .dtype 등의 메서드가 있지만 위 type 은 내장함수이기 때문에 범용적으로 사용된다. "
   ]
  },
  {
   "cell_type": "code",
   "execution_count": 14,
   "metadata": {
    "scrolled": true
   },
   "outputs": [
    {
     "data": {
      "text/plain": [
       "str"
      ]
     },
     "execution_count": 14,
     "metadata": {},
     "output_type": "execute_result"
    }
   ],
   "source": [
    "type(\"abc\")"
   ]
  },
  {
   "cell_type": "markdown",
   "metadata": {},
   "source": [
    "## range"
   ]
  },
  {
   "cell_type": "markdown",
   "metadata": {},
   "source": [
    "- range([start,] stop [,step] )는 for문과 함께 자주 사용하는 함수이다. 이 함수는 입력받은 숫자에 해당하는 범위 값을 반복 가능한 객체로 만들어 돌려준다."
   ]
  },
  {
   "cell_type": "code",
   "execution_count": 21,
   "metadata": {},
   "outputs": [
    {
     "data": {
      "text/plain": [
       "[1, 2, 3, 4]"
      ]
     },
     "execution_count": 21,
     "metadata": {},
     "output_type": "execute_result"
    }
   ],
   "source": [
    "lis = []\n",
    "for i in range(1,5):\n",
    "    lis.append(i)\n",
    "lis"
   ]
  },
  {
   "cell_type": "code",
   "execution_count": 22,
   "metadata": {},
   "outputs": [
    {
     "data": {
      "text/plain": [
       "[1, 2, 3, 4]"
      ]
     },
     "execution_count": 22,
     "metadata": {},
     "output_type": "execute_result"
    }
   ],
   "source": [
    "# range 와 np.arange 는 거의 똑같다. 거의 같다고 보면 된다.\n",
    "lis = []\n",
    "for i in np.arange(1,5):\n",
    "    lis.append(i)\n",
    "lis"
   ]
  },
  {
   "cell_type": "markdown",
   "metadata": {},
   "source": [
    "## zip"
   ]
  },
  {
   "cell_type": "markdown",
   "metadata": {},
   "source": [
    "- 파이썬 에서는 zip이라는 내장함수가 있다. zip() 은 동일한 개수로 이루어진 자료형을 묶어 주는 역할을 하는 함수이다.\n",
    "- dataframe 의 column 을 df.columns 로 리스트 형태로 받은 뒤, 그에 따른 weight 를 지정해 준 후 dict(zip 으로 묶어서 classification 시에 이용할 수 있다.\n",
    "    - keras/lgbm 등은 weight 를 설정할 때에, 각 분류에 따른 가중치를 dict 형식으로 받는다.\n",
    "- 또는 같은 길이의 list 를 여러개 묶은 뒤 for문을 한번에 적용할 수 있다.\n",
    "    - fot i,j in zip(lis1,lis2): 로 쓴다면 i,j 를 한번에 쓸 수 있다.\n"
   ]
  },
  {
   "cell_type": "code",
   "execution_count": 4,
   "metadata": {},
   "outputs": [],
   "source": [
    "fruits = [\"Apple\", \"Pear\", \"Peach\", \"Banana\"]\n",
    "prices = [0.35, 0.40, 0.40, 0.28]"
   ]
  },
  {
   "cell_type": "code",
   "execution_count": 12,
   "metadata": {},
   "outputs": [
    {
     "name": "stdout",
     "output_type": "stream",
     "text": [
      "{'Apple': 0.35, 'Pear': 0.4, 'Peach': 0.4, 'Banana': 0.28}\n"
     ]
    }
   ],
   "source": [
    "# 아래와같이 같은 길이의 list(혹은 numpy 도 사용할 수 있음)를 이용하면 dict로 변환가능\n",
    "dic = dict(zip(fruits, prices))\n",
    "print(dic)"
   ]
  },
  {
   "cell_type": "code",
   "execution_count": 13,
   "metadata": {},
   "outputs": [
    {
     "name": "stdout",
     "output_type": "stream",
     "text": [
      "[('Apple', 0.35), ('Pear', 0.4), ('Peach', 0.4), ('Banana', 0.28)]\n"
     ]
    }
   ],
   "source": [
    "lis = list(zip(fruits,prices))\n",
    "print(lis)"
   ]
  },
  {
   "cell_type": "markdown",
   "metadata": {},
   "source": [
    "## Enumerate"
   ]
  },
  {
   "cell_type": "markdown",
   "metadata": {},
   "source": [
    "- zip(*iterable)은 동일한 개수로 이루어진 자료형을 묶어 주는 역할을 하는 함수이다.\n",
    "- 반복문 사용 시 몇 번째 반복문인지 확인이 필요할 수 있다.\n",
    "    - subplot 과 함께 사용해서, 각 위치에 i번째 plot을 그려주는 형식으로 쓸 수 있다.\n"
   ]
  },
  {
   "cell_type": "code",
   "execution_count": 11,
   "metadata": {},
   "outputs": [
    {
     "name": "stdout",
     "output_type": "stream",
     "text": [
      "0 딸기\n",
      "1 사과\n",
      "2 포토\n"
     ]
    }
   ],
   "source": [
    "for i, name in enumerate(['딸기','사과','포토']):\n",
    "    print(i, name)"
   ]
  },
  {
   "cell_type": "markdown",
   "metadata": {},
   "source": [
    "## map"
   ]
  },
  {
   "cell_type": "markdown",
   "metadata": {},
   "source": [
    "- iterable객체를 받아서, 각 요소에 함수를 적용해주는 함수이다.\n",
    "- map은 원본 리스트를 변경하지 않고 새 리스트를 생성\n",
    "- 모든 element 들에 대해서 같은 적용을 하고 싶을때에 자주 사용한다.\n",
    "    - ex) str.map(lambda x : x.zfill(3))\n"
   ]
  },
  {
   "cell_type": "code",
   "execution_count": 49,
   "metadata": {},
   "outputs": [
    {
     "data": {
      "text/plain": [
       "[1, 2, 3, 4]"
      ]
     },
     "execution_count": 49,
     "metadata": {},
     "output_type": "execute_result"
    }
   ],
   "source": [
    "# 리스트의 모든 값을 정수로 변환하고 싶다고 하자.\n",
    "# MAP 함수를 모른다면 아래와 같이 for 문으로 일일히 int 함수를 적용시켜야 한다.\n",
    "lis = [1.2, 2.5, 3.7, 4.6]\n",
    "for i in range(len(lis)):\n",
    "    lis[i] = int(lis[i])\n",
    "lis"
   ]
  },
  {
   "cell_type": "code",
   "execution_count": 50,
   "metadata": {},
   "outputs": [
    {
     "data": {
      "text/plain": [
       "[1, 2, 3, 4]"
      ]
     },
     "execution_count": 50,
     "metadata": {},
     "output_type": "execute_result"
    }
   ],
   "source": [
    "# 하지만 아래와 같이 적용 가능\n",
    "lis = list(map(int, lis))\n",
    "lis"
   ]
  },
  {
   "cell_type": "markdown",
   "metadata": {},
   "source": [
    "## len"
   ]
  },
  {
   "cell_type": "markdown",
   "metadata": {},
   "source": [
    "- len(s)은 입력값 s의 길이(요소의 전체 개수)를 돌려주는 함수이다.\n",
    "- .size 등의 메소드가 있지만 이는 각 packages 에서나 통용되는것이기 때문에 위같은 내장함수를 알아두는것이 편리히다."
   ]
  },
  {
   "cell_type": "code",
   "execution_count": 28,
   "metadata": {
    "scrolled": false
   },
   "outputs": [
    {
     "data": {
      "text/plain": [
       "2"
      ]
     },
     "execution_count": 28,
     "metadata": {},
     "output_type": "execute_result"
    }
   ],
   "source": [
    "lis = ['a','b']\n",
    "len(lis)"
   ]
  },
  {
   "cell_type": "markdown",
   "metadata": {},
   "source": [
    "## 형태변환\n",
    "- 각 패키지의 메소드마다 입력값으로 받는것이 다르다.\n",
    "    - list 만 받는다던가, dict 형태로만 받는등....\n",
    "- 그럴때에 맞는 형태로 바꾸기 위해서 쓰인다."
   ]
  },
  {
   "cell_type": "markdown",
   "metadata": {},
   "source": [
    "- **list( )**: 리스트 변환\n",
    "- **tuple( )**: tuple 변환\n",
    "- **set( )**: 집합 변환"
   ]
  },
  {
   "cell_type": "markdown",
   "metadata": {},
   "source": [
    "## Lambda"
   ]
  },
  {
   "cell_type": "markdown",
   "metadata": {},
   "source": [
    "- Lamda 함수는 (lambda x,y: x + y)(10, 20) 처럼 함수 def 없이 바로 적용하게 해준다.\n",
    "- 아래와 같이 map 이나 filter 등에서 사용된다."
   ]
  },
  {
   "cell_type": "code",
   "execution_count": 58,
   "metadata": {},
   "outputs": [
    {
     "data": {
      "text/plain": [
       "[0, 1, 4, 9, 16]"
      ]
     },
     "execution_count": 58,
     "metadata": {},
     "output_type": "execute_result"
    }
   ],
   "source": [
    "list(map(lambda x: x ** 2, range(5)))"
   ]
  },
  {
   "cell_type": "code",
   "execution_count": 59,
   "metadata": {},
   "outputs": [
    {
     "data": {
      "text/plain": [
       "[1, 3, 5, 7, 9]"
      ]
     },
     "execution_count": 59,
     "metadata": {},
     "output_type": "execute_result"
    }
   ],
   "source": [
    "list(filter(lambda x: x % 2, range(10)))"
   ]
  },
  {
   "cell_type": "markdown",
   "metadata": {},
   "source": [
    "## Filter"
   ]
  },
  {
   "cell_type": "markdown",
   "metadata": {},
   "source": [
    "- filter함수는 특정 조건으로 걸러서 걸러진 요소들로 iterator객체를 만들어서 리턴해준다.\n",
    "- map함수와 사용 방법은 동일하다. 하지만 함수의 결과가 참인지 거짓인지에 따라, 해당 요소를 포함할지를 결정한다.\n",
    "- "
   ]
  },
  {
   "cell_type": "code",
   "execution_count": 7,
   "metadata": {},
   "outputs": [
    {
     "name": "stdout",
     "output_type": "stream",
     "text": [
      "[2, 4, 6, 8, 10]\n"
     ]
    }
   ],
   "source": [
    "target = [1, 2, 3, 4, 5, 6, 7, 8, 9, 10]\n",
    "\n",
    "# 함수를 정의한다.\n",
    "def is_even(n):\n",
    "    return True if n % 2 == 0 else False\n",
    "\n",
    "# filter 를 통해서 map 과 같이 target 에 함수를 적용한다.\n",
    "# 이 때에 filter 에서 'TRUE'를 뽑아내는 경우에만 target 값에서 뽑아낸다.\n",
    "result = filter(is_even, target)\n",
    "\n",
    "# result 는 filter 객체이기 떄문에 list 로 변환시켜주어야 한다.\n",
    "print(list(result))"
   ]
  },
  {
   "cell_type": "markdown",
   "metadata": {},
   "source": [
    "## Print"
   ]
  },
  {
   "cell_type": "markdown",
   "metadata": {},
   "source": [
    "# Reference"
   ]
  },
  {
   "cell_type": "markdown",
   "metadata": {},
   "source": [
    "- https://www.slideshare.net/ChrisCho2/python-vs-java-pycon-korea-2017\n",
    "- https://wikidocs.net/book/1 "
   ]
  },
  {
   "cell_type": "code",
   "execution_count": null,
   "metadata": {},
   "outputs": [],
   "source": []
  }
 ],
 "metadata": {
  "kernelspec": {
   "display_name": "Python 3",
   "language": "python",
   "name": "python3"
  },
  "language_info": {
   "codemirror_mode": {
    "name": "ipython",
    "version": 3
   },
   "file_extension": ".py",
   "mimetype": "text/x-python",
   "name": "python",
   "nbconvert_exporter": "python",
   "pygments_lexer": "ipython3",
   "version": "3.7.9"
  },
  "toc": {
   "base_numbering": 1,
   "nav_menu": {},
   "number_sections": true,
   "sideBar": true,
   "skip_h1_title": false,
   "title_cell": "Table of Contents",
   "title_sidebar": "Contents",
   "toc_cell": false,
   "toc_position": {
    "height": "calc(100% - 180px)",
    "left": "10px",
    "top": "150px",
    "width": "165px"
   },
   "toc_section_display": true,
   "toc_window_display": true
  }
 },
 "nbformat": 4,
 "nbformat_minor": 4
}
