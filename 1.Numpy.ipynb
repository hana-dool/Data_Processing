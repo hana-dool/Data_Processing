{
 "cells": [
  {
   "cell_type": "markdown",
   "metadata": {},
   "source": [
    "# 📝Numpy"
   ]
  },
  {
   "cell_type": "markdown",
   "metadata": {},
   "source": [
    "- Numarray와 Numeric이라는 오래된 Python 패키지를 계승해서 나온 수학 및 과학 연산을 위한 파이썬 패키지\n",
    "- Numpy 내부는 상당부분 C나 포트란으로 작성되어 실행 속도도 꽤 빠른편\n",
    "- 기본적으로 array라는 자료를 생성하고 이를 바탕으로 색인, 처리, 연산 등을 하는 기능을 수행\n",
    "- 파이썬으로 수치해석, 통계 관련 기능을 구현한다고 할 때 Numpy는 가장 기본이 되는 모듈이다"
   ]
  },
  {
   "cell_type": "markdown",
   "metadata": {},
   "source": [
    "![image](./image/1.numpy1.png)"
   ]
  },
  {
   "cell_type": "markdown",
   "metadata": {},
   "source": [
    "# ❓Over view"
   ]
  },
  {
   "cell_type": "markdown",
   "metadata": {},
   "source": [
    "기능들이 매우매우 많지만, 그 중에서 통계분석시에 내가 사용했던 기능들 위주로 소개하겠다."
   ]
  },
  {
   "cell_type": "markdown",
   "metadata": {},
   "source": [
    "**Numpy의 기본속성**\n",
    "\n",
    "- **np.array( [list] , type )** : numpy array 를 생성한다. \n",
    "- **.ndim** : number of dimensions 를 반환\n",
    "- **.shape** : shape 를 반환\n",
    "- **.size** : array 의 총 element 수를 반환\n",
    "- **.dtype ( )** : element 들의 type 을 반환\n",
    "    - int32, int64, float32 등의 type 이 가능\n",
    "- **.copy()** : 카피해서 새로운 주소를 가진 객체생성.\n",
    "    - 이렇게 하면 원 numpy 의 값을 해치지 않고 여러 실험이 가능하다.\n",
    "    "
   ]
  },
  {
   "cell_type": "markdown",
   "metadata": {},
   "source": [
    "**Numpy의 Sequence**\n",
    "\n",
    "\n",
    "- **np.arange( start , end , step )** : start(포함)~ end(미포함) 까지의 step 차이의 seq 생성\n",
    "    - 주로 for 문과 같이 결합되어 사용\n",
    "- **np.linspace( start, end, num )** : num 개의 start(포함)~end(포함) 으로 생성\n",
    "    - 등차수열로 NA 를 채울때 사용\n",
    "    - 등차를 만들어서 각 지점에서의 값 변화, pdf근사 등에 사용됨\n",
    "- **np.ones ( shape = ( . ), dtype = )**: shape 의 1 행렬 출력\n",
    "    - np 의 연산이 어떻게 이루어지는지 검사할때 사용 (axis 가 내 의도와 맞는지, 3~4차원일때는 어떨지 등등)\n",
    "    "
   ]
  },
  {
   "cell_type": "markdown",
   "metadata": {},
   "source": [
    "**Numpy의 Random**\n",
    "\n",
    "\n",
    "random 은 numpy 의 submodule 이다. 그래서 작동시에는 np.random. 으로 한번 더 모듈이름이 들어간다.\n",
    "- **np.random.seed( [ seed ] )** : numpy 의 random seed 고정. \n",
    "    - 결과의 재현성을 위해서 공모전에서 많이 쓴다.\n",
    "- **random.rand(a,b...)** : Unif(0,1) 에서 추출한 random 을(Uniform) (a,b..) 의 shape으로 형성 \n",
    "- **random.randn(a,b...)** : Normal(0,1) 에서 추출한 random 을 a,b.. 의 shape 으로 형성\n",
    "- **random.randint( low, high, size )** : low(inclusive) ~ high(exclusive) 의 범위 내에서 size 만큼의 integer 생성\n",
    "    - 무작위로 row sample 을 골라서 plot 할 때에 사용"
   ]
  },
  {
   "cell_type": "markdown",
   "metadata": {},
   "source": [
    "**Numpy의 indexing**\n",
    "\n",
    "\n",
    "1~2 차원 뿐만 아니라 딥러닝을 하게되면 3차원 이상의 넘파이를 만나게 된다. <br>\n",
    "그렇기 때문에 차원을 자유롭게 조작하는법을 익히고 고차원에서의 연산 방식을 익혀두어야 한다. <br>\n",
    "먼저 시작하기에 앞서 x는 3차원 numpy 라 가정하자.\n",
    "\n",
    "- **x[start : stop : step]** : start(포함) ~ stop(미포함) 의 element 들을 step 순서로 출력. 이 때에 dimension 손실은 없다.\n",
    "    - x[:a, b:] : 이와 같이 혼합하여 인덱싱 가능\n",
    "- **x[:,np.newaxis]** : 새로운 axis 생성\n",
    "    - x[a,b,c] 에서 제일 안쪽(c) 값은 제일 안쪽 element 를 의미한다."
   ]
  },
  {
   "cell_type": "markdown",
   "metadata": {},
   "source": [
    "**Numpy의 concatenation**\n",
    "\n",
    "\n",
    "- **np.vstack[x,y]** : x,y 의 array 를 vertical (세로로) 쌓아올림\n",
    "    - Upsampling 하였을 때에 데이터(row) 를 늘리기 위해 사용\n",
    "- **np.hstack[x,y]** : x,y 의 array 를 horizontal(가로로) 늘림\n",
    "    - 새로운 col(변수) 를 생성한 이후, 옆에 붙일때 사용\n",
    "- **np.concatenate(( , ),axis =)** : axis 기준으로 numpy 를 합침\n"
   ]
  },
  {
   "cell_type": "markdown",
   "metadata": {},
   "source": [
    "**Numpy의 변환**\n",
    "\n",
    "- **.flatten( )**: 1차원으로 늘여서 변환\n",
    "    - CNN 에서 NN 층에 들어가기 전에 사용됨\n",
    "- **.reshape( (a, b...) )** : ( a, b... ) 모양으로 numpy 를 reshaping 한다.\n",
    "    - -1 을 넣으면 '컴퓨터가 알아서 계산' 하라는 뜻이다. 이는 n-1 개의 shape 를 지정해준 뒤 나머지 값이 확정될 경우 사용가능\n",
    "    - 주로 deep learning 모델에 넣을때, 사이즈에 맞게 데이터를 변환할때에 사용\n",
    "\n",
    "- **.tolist( )**: 리스트로 변환\n",
    "    - numpy 를 list 형태로 변환\n",
    "\n"
   ]
  },
  {
   "cell_type": "markdown",
   "metadata": {},
   "source": [
    "**Numpy 연산**\n",
    "\n",
    "\n",
    "연산의 element 수가 맞는 경우 elementry wise 하게 연산이 일어난다. <br>\n",
    "dim 이 맞지 않는 경우 index 의 left to right 로 옮겨가면서 dimension 을 padding 하며 연산됨<br>\n",
    "\n",
    "- **np.sum(x,axis)** : axis 를 기준으로 계산해서 sum 출력\n",
    "- **np.mean(x,axis)**\n",
    "- **np.std(x,axis)**\n",
    "- **np.var(x,axis)**\n",
    "- **np.min(x,axis)**\n",
    "- **np.max(x,axis)**\n",
    "- **np.median(x,axis)**\n",
    "- **np.percentile(x,axis)**\n",
    "- **np.ceil(x,axis)**\n",
    "- **np.floor(x,axis)**\n",
    "- **np.abs(x,axis)**\n"
   ]
  },
  {
   "cell_type": "markdown",
   "metadata": {},
   "source": [
    "# 📊 Example"
   ]
  },
  {
   "cell_type": "code",
   "execution_count": null,
   "metadata": {},
   "outputs": [],
   "source": []
  }
 ],
 "metadata": {
  "kernelspec": {
   "display_name": "Python 3",
   "language": "python",
   "name": "python3"
  },
  "language_info": {
   "codemirror_mode": {
    "name": "ipython",
    "version": 3
   },
   "file_extension": ".py",
   "mimetype": "text/x-python",
   "name": "python",
   "nbconvert_exporter": "python",
   "pygments_lexer": "ipython3",
   "version": "3.7.4"
  },
  "toc": {
   "base_numbering": 1,
   "nav_menu": {},
   "number_sections": false,
   "sideBar": true,
   "skip_h1_title": false,
   "title_cell": "Table of Contents",
   "title_sidebar": "Contents",
   "toc_cell": false,
   "toc_position": {
    "height": "calc(100% - 180px)",
    "left": "10px",
    "top": "150px",
    "width": "208.455px"
   },
   "toc_section_display": true,
   "toc_window_display": true
  }
 },
 "nbformat": 4,
 "nbformat_minor": 4
}
