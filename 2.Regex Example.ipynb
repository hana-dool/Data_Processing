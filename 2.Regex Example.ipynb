{
 "cells": [
  {
   "cell_type": "markdown",
   "id": "skilled-metallic",
   "metadata": {},
   "source": [
    "# 정규식"
   ]
  },
  {
   "cell_type": "markdown",
   "id": "accessory-martin",
   "metadata": {},
   "source": [
    "- 공부하면서 자주 맡딱뜨리게 되는 정규식의 예제를 정리해 보았습니다."
   ]
  },
  {
   "cell_type": "code",
   "execution_count": 1,
   "id": "solid-peripheral",
   "metadata": {},
   "outputs": [
    {
     "data": {
      "text/html": [
       "<div>\n",
       "<style scoped>\n",
       "    .dataframe tbody tr th:only-of-type {\n",
       "        vertical-align: middle;\n",
       "    }\n",
       "\n",
       "    .dataframe tbody tr th {\n",
       "        vertical-align: top;\n",
       "    }\n",
       "\n",
       "    .dataframe thead th {\n",
       "        text-align: right;\n",
       "    }\n",
       "</style>\n",
       "<table border=\"1\" class=\"dataframe\">\n",
       "  <thead>\n",
       "    <tr style=\"text-align: right;\">\n",
       "      <th></th>\n",
       "      <th>법정동코드</th>\n",
       "      <th>법정동명</th>\n",
       "      <th>폐지여부</th>\n",
       "    </tr>\n",
       "  </thead>\n",
       "  <tbody>\n",
       "    <tr>\n",
       "      <th>0</th>\n",
       "      <td>1100000000</td>\n",
       "      <td>서울특별시</td>\n",
       "      <td>존재</td>\n",
       "    </tr>\n",
       "    <tr>\n",
       "      <th>1</th>\n",
       "      <td>1111000000</td>\n",
       "      <td>서울특별시 종로구</td>\n",
       "      <td>존재</td>\n",
       "    </tr>\n",
       "    <tr>\n",
       "      <th>2</th>\n",
       "      <td>1111010100</td>\n",
       "      <td>서울특별시 종로구 청운동</td>\n",
       "      <td>존재</td>\n",
       "    </tr>\n",
       "    <tr>\n",
       "      <th>3</th>\n",
       "      <td>1111010200</td>\n",
       "      <td>서울특별시 종로구 신교동</td>\n",
       "      <td>존재</td>\n",
       "    </tr>\n",
       "    <tr>\n",
       "      <th>4</th>\n",
       "      <td>1111010300</td>\n",
       "      <td>서울특별시 종로구 궁정동</td>\n",
       "      <td>존재</td>\n",
       "    </tr>\n",
       "  </tbody>\n",
       "</table>\n",
       "</div>"
      ],
      "text/plain": [
       "        법정동코드           법정동명 폐지여부\n",
       "0  1100000000          서울특별시   존재\n",
       "1  1111000000      서울특별시 종로구   존재\n",
       "2  1111010100  서울특별시 종로구 청운동   존재\n",
       "3  1111010200  서울특별시 종로구 신교동   존재\n",
       "4  1111010300  서울특별시 종로구 궁정동   존재"
      ]
     },
     "execution_count": 1,
     "metadata": {},
     "output_type": "execute_result"
    }
   ],
   "source": [
    "import pandas as pd\n",
    "import numpy as np\n",
    "df = pd.read_csv('./Data/법정동코드 전체자료.txt', sep='\\t', encoding='cp949')\n",
    "df.head()"
   ]
  },
  {
   "cell_type": "markdown",
   "id": "damaged-diversity",
   "metadata": {},
   "source": [
    "# 특정 단어로 끝나는 단어 추출"
   ]
  },
  {
   "cell_type": "code",
   "execution_count": 28,
   "id": "insured-format",
   "metadata": {
    "scrolled": true
   },
   "outputs": [
    {
     "data": {
      "text/plain": [
       "0            서울특별시\n",
       "1        서울특별시 종로구\n",
       "2    서울특별시 종로구 청운동\n",
       "3    서울특별시 종로구 신교동\n",
       "4    서울특별시 종로구 궁정동\n",
       "5    서울특별시 종로구 효자동\n",
       "6    서울특별시 종로구 창성동\n",
       "7    서울특별시 종로구 통의동\n",
       "8    서울특별시 종로구 적선동\n",
       "9    서울특별시 종로구 통인동\n",
       "Name: 법정동명, dtype: object"
      ]
     },
     "execution_count": 28,
     "metadata": {},
     "output_type": "execute_result"
    }
   ],
   "source": [
    "df['법정동명'].head(n=10)"
   ]
  },
  {
   "cell_type": "code",
   "execution_count": 66,
   "id": "republican-fault",
   "metadata": {
    "scrolled": true
   },
   "outputs": [
    {
     "data": {
      "text/html": [
       "<div>\n",
       "<style scoped>\n",
       "    .dataframe tbody tr th:only-of-type {\n",
       "        vertical-align: middle;\n",
       "    }\n",
       "\n",
       "    .dataframe tbody tr th {\n",
       "        vertical-align: top;\n",
       "    }\n",
       "\n",
       "    .dataframe thead th {\n",
       "        text-align: right;\n",
       "    }\n",
       "</style>\n",
       "<table border=\"1\" class=\"dataframe\">\n",
       "  <thead>\n",
       "    <tr style=\"text-align: right;\">\n",
       "      <th></th>\n",
       "      <th>0</th>\n",
       "    </tr>\n",
       "  </thead>\n",
       "  <tbody>\n",
       "    <tr>\n",
       "      <th>0</th>\n",
       "      <td>NaN</td>\n",
       "    </tr>\n",
       "    <tr>\n",
       "      <th>1</th>\n",
       "      <td>NaN</td>\n",
       "    </tr>\n",
       "    <tr>\n",
       "      <th>2</th>\n",
       "      <td>청운동</td>\n",
       "    </tr>\n",
       "    <tr>\n",
       "      <th>3</th>\n",
       "      <td>신교동</td>\n",
       "    </tr>\n",
       "    <tr>\n",
       "      <th>4</th>\n",
       "      <td>궁정동</td>\n",
       "    </tr>\n",
       "    <tr>\n",
       "      <th>...</th>\n",
       "      <td>...</td>\n",
       "    </tr>\n",
       "    <tr>\n",
       "      <th>46175</th>\n",
       "      <td>NaN</td>\n",
       "    </tr>\n",
       "    <tr>\n",
       "      <th>46176</th>\n",
       "      <td>NaN</td>\n",
       "    </tr>\n",
       "    <tr>\n",
       "      <th>46177</th>\n",
       "      <td>NaN</td>\n",
       "    </tr>\n",
       "    <tr>\n",
       "      <th>46178</th>\n",
       "      <td>NaN</td>\n",
       "    </tr>\n",
       "    <tr>\n",
       "      <th>46179</th>\n",
       "      <td>NaN</td>\n",
       "    </tr>\n",
       "  </tbody>\n",
       "</table>\n",
       "<p>46180 rows × 1 columns</p>\n",
       "</div>"
      ],
      "text/plain": [
       "          0\n",
       "0       NaN\n",
       "1       NaN\n",
       "2       청운동\n",
       "3       신교동\n",
       "4       궁정동\n",
       "...     ...\n",
       "46175   NaN\n",
       "46176   NaN\n",
       "46177   NaN\n",
       "46178   NaN\n",
       "46179   NaN\n",
       "\n",
       "[46180 rows x 1 columns]"
      ]
     },
     "execution_count": 66,
     "metadata": {},
     "output_type": "execute_result"
    }
   ],
   "source": [
    "df['법정동명'].str.extract('(\\s+\\w+동)') # 띄어쓰기 \n",
    "# \\s+ : space 가 1개이상인 경우\n",
    "# w* : 글자(w) 이 1개 이상인 경우\n",
    "# 구 : 마지막이 구로 끝나는 글자"
   ]
  },
  {
   "cell_type": "markdown",
   "id": "gorgeous-chorus",
   "metadata": {},
   "source": [
    "# 예외사항 집어넣기"
   ]
  },
  {
   "cell_type": "markdown",
   "id": "optional-simpson",
   "metadata": {},
   "source": [
    "- 어떤 사항은 '제외' 하고 식을 짜고 싶을 수 있다. \n",
    "- 그런 경우에 아래처럼 replace 로 없앤 문자열을 가지고 수행할 수 있다."
   ]
  },
  {
   "cell_type": "code",
   "execution_count": 77,
   "id": "shaped-nation",
   "metadata": {},
   "outputs": [
    {
     "data": {
      "text/html": [
       "<div>\n",
       "<style scoped>\n",
       "    .dataframe tbody tr th:only-of-type {\n",
       "        vertical-align: middle;\n",
       "    }\n",
       "\n",
       "    .dataframe tbody tr th {\n",
       "        vertical-align: top;\n",
       "    }\n",
       "\n",
       "    .dataframe thead th {\n",
       "        text-align: right;\n",
       "    }\n",
       "</style>\n",
       "<table border=\"1\" class=\"dataframe\">\n",
       "  <thead>\n",
       "    <tr style=\"text-align: right;\">\n",
       "      <th></th>\n",
       "      <th>0</th>\n",
       "    </tr>\n",
       "  </thead>\n",
       "  <tbody>\n",
       "    <tr>\n",
       "      <th>0</th>\n",
       "      <td>NaN</td>\n",
       "    </tr>\n",
       "    <tr>\n",
       "      <th>1</th>\n",
       "      <td>NaN</td>\n",
       "    </tr>\n",
       "    <tr>\n",
       "      <th>2</th>\n",
       "      <td>NaN</td>\n",
       "    </tr>\n",
       "    <tr>\n",
       "      <th>3</th>\n",
       "      <td>신교동</td>\n",
       "    </tr>\n",
       "    <tr>\n",
       "      <th>4</th>\n",
       "      <td>NaN</td>\n",
       "    </tr>\n",
       "    <tr>\n",
       "      <th>...</th>\n",
       "      <td>...</td>\n",
       "    </tr>\n",
       "    <tr>\n",
       "      <th>46175</th>\n",
       "      <td>NaN</td>\n",
       "    </tr>\n",
       "    <tr>\n",
       "      <th>46176</th>\n",
       "      <td>NaN</td>\n",
       "    </tr>\n",
       "    <tr>\n",
       "      <th>46177</th>\n",
       "      <td>NaN</td>\n",
       "    </tr>\n",
       "    <tr>\n",
       "      <th>46178</th>\n",
       "      <td>NaN</td>\n",
       "    </tr>\n",
       "    <tr>\n",
       "      <th>46179</th>\n",
       "      <td>NaN</td>\n",
       "    </tr>\n",
       "  </tbody>\n",
       "</table>\n",
       "<p>46180 rows × 1 columns</p>\n",
       "</div>"
      ],
      "text/plain": [
       "          0\n",
       "0       NaN\n",
       "1       NaN\n",
       "2       NaN\n",
       "3       신교동\n",
       "4       NaN\n",
       "...     ...\n",
       "46175   NaN\n",
       "46176   NaN\n",
       "46177   NaN\n",
       "46178   NaN\n",
       "46179   NaN\n",
       "\n",
       "[46180 rows x 1 columns]"
      ]
     },
     "execution_count": 77,
     "metadata": {},
     "output_type": "execute_result"
    }
   ],
   "source": [
    "# 아래와 같이 청운동, 궁정동의 경우 '' 으로 replace 한 상태에서 추출하였다.\n",
    "# 그러면 예외사항으로 청운동, 궁정동의 경우를 제외한 extraction 이 된다.\n",
    "df['법정동명'].str.replace('청운동|궁정동','',regex = True).str.extract('(\\s+\\w+동)')"
   ]
  }
 ],
 "metadata": {
  "kernelspec": {
   "display_name": "Python 3",
   "language": "python",
   "name": "python3"
  },
  "language_info": {
   "codemirror_mode": {
    "name": "ipython",
    "version": 3
   },
   "file_extension": ".py",
   "mimetype": "text/x-python",
   "name": "python",
   "nbconvert_exporter": "python",
   "pygments_lexer": "ipython3",
   "version": "3.7.9"
  },
  "toc": {
   "base_numbering": 1,
   "nav_menu": {},
   "number_sections": true,
   "sideBar": true,
   "skip_h1_title": false,
   "title_cell": "Table of Contents",
   "title_sidebar": "Contents",
   "toc_cell": false,
   "toc_position": {
    "height": "calc(100% - 180px)",
    "left": "10px",
    "top": "150px",
    "width": "185.556px"
   },
   "toc_section_display": true,
   "toc_window_display": true
  }
 },
 "nbformat": 4,
 "nbformat_minor": 5
}
